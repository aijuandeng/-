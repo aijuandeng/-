{
 "cells": [
  {
   "cell_type": "markdown",
   "metadata": {},
   "source": [
    "## 金融贷款数据分析"
   ]
  },
  {
   "cell_type": "markdown",
   "metadata": {},
   "source": [
    "### 案例简介\n",
    "Prosper是美国的一家P2P在线借贷平台，网站撮合了一些有闲钱的人和一些急用钱的人。用户若有贷款需求，可在网站上列出期望数额和可承受的最大利率。潜在贷方则为数额和利率展开竞价。 本项目拟通过该数据集的探索，结合自己的理解进行分析，最终目的的是初步预测哪些人贷款逾期还款。\n",
    "\n",
    "ListingCreation: 列表创建时间。 \n",
    "\n",
    "Term: 贷款期限，期限越长的，利率应当越高 \n",
    "\n",
    "LoanStatus: 贷款状态（Completed、Current、Defaulted、Chargedoff等） \n",
    "\n",
    "BorrowerBorrowerRate: 借款利率。 \n",
    "\n",
    "DelinquenciesLast7Years: 信用资料提交时借款人过去7年违约次数。 \n",
    "\n",
    "StatedMonthlyIncome: 客户自己声称的月收入。 \n",
    "\n",
    "IsBorrowerHomeowner: 借款人是否拥有住房。 \n",
    "\n",
    "InquiriesLast6Months: 最近6个月的征信记录查询次数。一般来说，征信查询次数越多，该主体的贷款申请就越多。 \n",
    "\n",
    "DebtToIncomeRatio: 借款人的债务收入比，债务收入比越高说明筹资者财务状况越差，还款能力越低。 \n",
    "\n",
    "Occupation: 贷款人职业 \n",
    "\n",
    "CreditGrade/ProsperRating(Alpha): 信用等级，前者反映的是2009年7月1日前客户的信用等级，后者反映的是2009年7月1日后的信用等级。信用等级越高，其偿债能力越强。 \n",
    "\n",
    "CreditScore: 由消费信用公司提供的消费信用评分，同信用评级作用。 \n",
    "\n",
    "BankCardUse: 信用资料提交时借款人信用卡使用额度和信用卡总透支额度的百分比，本文将这个数据分成四组（mild use; medium use; heavy use; super use）"
   ]
  },
  {
   "cell_type": "markdown",
   "metadata": {},
   "source": [
    "### 数据预处理\n",
    "1. 筛选数据集\n",
    "LoanStatus: 贷款状态 \n",
    "步骤： 针对LoanStatus进行重构 \n",
    "1.将所有含有“Past Due”、“Cancelled”、“defaulted”、“Chargedoff”转换为1，表示逾期 \n",
    "2.将“FinalPaymentInProgress”、“Completed”转换为0，表示未逾期 \n",
    "3.将“Current”转换为2，表示正在进行的样本，作为预测集 \n",
    "筛选出借款日期在2009年7月之后的样本作为本项目的数据集\n",
    "2. 删除无效变量\n",
    "3. 处理缺失值\n",
    "4. 整合BankcardUtilization，IncomeRange等变量"
   ]
  },
  {
   "cell_type": "code",
   "execution_count": 32,
   "metadata": {
    "scrolled": true
   },
   "outputs": [
    {
     "name": "stdout",
     "output_type": "stream",
     "text": [
      "本数据集有113937行，81列\n",
      "筛选后的数据集有84984行，81列\n"
     ]
    }
   ],
   "source": [
    "import pandas as pd\n",
    "import datetime\n",
    "import numpy as np\n",
    "from matplotlib import pyplot as plt\n",
    "\n",
    "df = pd.read_csv(r\"F:\\文档\\python\\load_data\\prosperLoanData.csv\",engine=\"python\")\n",
    "df.rename(str.lower,axis='columns',inplace=True)\n",
    "map_name = {'prosperrating (numeric)':'prosperrating','listingcategory (numeric)':'listingcategory','tradesneverdelinquent (percentage)':'tradesneverdelinquent'}\n",
    "df.rename(columns=map_name,inplace=True)\n",
    "# print(df.info())\n",
    "# print(df.describe())\n",
    "print(\"本数据集有{}行，{}列\".format(df.shape[0],df.shape[1]))\n",
    "\n",
    "# 借款日期\n",
    "df.loanoriginationdate = pd.to_datetime(df.loanoriginationdate.apply(lambda p:p.split(\" \")[0]),format=\"%Y/%m/%d\")\n",
    "# 初次打开额度时间\n",
    "df.firstrecordedcreditline = pd.to_datetime(df.firstrecordedcreditline,format=\"%Y/%m/%d\")\n",
    "# 信用档案被提取的日期\n",
    "df.datecreditpulled = pd.to_datetime(df.datecreditpulled.apply(lambda p:p.split(\" \")[0] if len(p)>10 else np.nan),format=\"%Y/%m/%d\")\n",
    "\n",
    "# 整合借款状态\n",
    "def status(loanstatus):\n",
    "    if \"Past Due\" in loanstatus or loanstatus==\"Cancelled\" or loanstatus==\"defaulted\" or loanstatus==\"Chargedoff\":\n",
    "        return 1\n",
    "    elif loanstatus==\"FinalPaymentInProgress\" or loanstatus==\"Completed\":\n",
    "        return 0\n",
    "    else:\n",
    "        return 2\n",
    "df['loanstatus'] = df.loanstatus.apply(status)\n",
    "df[df.loanoriginationdate >= datetime.datetime.strptime('2009-07-01','%Y-%m-%d')].shape\n",
    "df[df.loanoriginationdate < datetime.datetime.strptime('2009-07-01','%Y-%m-%d')].shape\n",
    "# 2009年7月1日之前的借款样本有28953个，之后的样本有84984。我们舍弃了2009年7月1日之前的借款样本\n",
    "# 由于该借贷平台在2009年7月前后有较大的政策变更，所以我们只取新政策实施阶段的样本，即借款日期在2009年7月之后的样本集\n",
    "dataset = df[df.loanoriginationdate >= datetime.datetime.strptime('2009-07-01','%Y-%m-%d')]\n",
    "print(\"筛选后的数据集有{}行，{}列\".format(dataset.shape[0],dataset.shape[1]))\n",
    "\n",
    "# 截至时间\n",
    "# dataset.ClosedDate = pd.to_datetime(dataset.ClosedDate,errors=\"ignore\")"
   ]
  },
  {
   "cell_type": "markdown",
   "metadata": {},
   "source": [
    "#### 删除无效变量"
   ]
  },
  {
   "cell_type": "code",
   "execution_count": 33,
   "metadata": {},
   "outputs": [
    {
     "data": {
      "text/plain": [
       "(84984, 69)"
      ]
     },
     "execution_count": 33,
     "metadata": {},
     "output_type": "execute_result"
    }
   ],
   "source": [
    "# 禁止显示警告\n",
    "import warnings \n",
    "warnings.filterwarnings('ignore')\n",
    "# 有些缺失值代表0所以不能直接删除缺失值，用0填充即可\n",
    "col = ['totalprosperpaymentsbilled','ontimeprosperpayments','prosperpaymentslessthanonemonthlate','prosperpaymentsonemonthpluslate','prosperprincipalborrowed',\n",
    "'prosperprincipaloutstanding','scorexchangeattimeoflisting',\"loancurrentdaysdelinquent\", 'loanfirstdefaultedcyclenumber']\n",
    "dataset[col] = dataset[col].fillna(value=0)\n",
    "dataset.isnull().sum()[dataset.isnull().sum()!= 0]\n",
    "\n",
    "# 删除无关变量(id或者时间)\n",
    "# 贷款发放的季度。因为已有LoanOriginationDate贷款发放的日期，所以这个特征可舍弃\n",
    "# 借款人职业中，不想透露职业的人数占多数，所以这个特征价值不大\n",
    "unrelated_columns = ['listingkey',\"listingnumber\",\"listingcreationdate\",\"currentlyingroup\",\"groupkey\",\n",
    "\"loankey\",\"memberkey\",\"loannumber\",\"creditgrade\",'loanoriginationquarter','employmentstatusduration',\"occupation\"]\n",
    "dataset.drop(columns=unrelated_columns,axis=1,inplace=True)\n",
    "\n",
    "dataset.shape\n",
    "# (84984, 69)"
   ]
  },
  {
   "cell_type": "markdown",
   "metadata": {},
   "source": [
    "#### 整合变量"
   ]
  },
  {
   "cell_type": "code",
   "execution_count": 34,
   "metadata": {},
   "outputs": [
    {
     "name": "stdout",
     "output_type": "stream",
     "text": [
      "count    84984.000000\n",
      "mean         0.564047\n",
      "std          0.301748\n",
      "min          0.000000\n",
      "25%          0.330000\n",
      "50%          0.600000\n",
      "75%          0.830000\n",
      "max          2.500000\n",
      "Name: bankcardutilization, dtype: float64\n"
     ]
    },
    {
     "data": {
      "text/plain": [
       "(84984, 72)"
      ]
     },
     "execution_count": 34,
     "metadata": {},
     "output_type": "execute_result"
    },
    {
     "data": {
      "image/png": "[encoded data removed]",
      "text/plain": [
       "<Figure size 432x576 with 1 Axes>"
      ]
     },
     "metadata": {},
     "output_type": "display_data"
    },
    {
     "data": {
      "image/png": "[encoded data removed]",
      "text/plain": [
       "<Figure size 432x288 with 1 Axes>"
      ]
     },
     "metadata": {},
     "output_type": "display_data"
    }
   ],
   "source": [
    "%matplotlib inline\n",
    "\n",
    "# 信用卡使用额度：BankcardUtilization\n",
    "# 将BankcardUtilization数据根据透支程度分成四组（mild use 为1; medium use 为2; heavy use 为3; super use 为4）\n",
    "print(dataset.bankcardutilization.describe())\n",
    "section = [0,0.220000,0.540000, 0.820000,2.500000]\n",
    "labels = [1,2,3,4]\n",
    "dataset.bankcardutilization = pd.cut(dataset.bankcardutilization,section,labels=labels)\n",
    "\n",
    "# 是否有收入证明，对月收入的影响\n",
    "dataset.groupby('incomeverifiable').agg({'statedmonthlyincome':['min','mean','max']}).reset_index()\n",
    "# 根据是否有收入证明分组,得到的月收入情况，没有收入证明的最大值偏大，平均值偏小，有收入证明的收入更具有可信度\n",
    "\n",
    "\n",
    "# 首先查看StatedMonthlyIncome月收入数据概况，是否有异常值\n",
    "# 绘制箱线图\n",
    "plt.figure(figsize=(6,8))\n",
    "plt.boxplot(dataset.statedmonthlyincome[(dataset.statedmonthlyincome<=60000) & (dataset.statedmonthlyincome>1000)],showmeans=True)\n",
    "# 发现较多异常值，为了减小方差，我们对贷款人的月收入进行离散化，去除极端值的影响\n",
    "# 对月收入进行离散化\n",
    "section= [0,3166,4583,6524,10000,620000]\n",
    "# # 1代表超低收入，2代表低收入，3代表中收入，4代表高收入，5代表超高收入\n",
    "labels = [1,2,3,4,5]\n",
    "dataset.statedmonthlyincome = pd.cut(dataset.statedmonthlyincome,section,labels=labels)\n",
    "\n",
    "# 年收入范围：IncomeRange\n",
    "# 取范围平均值\n",
    "def incomerange(IncomeRange):\n",
    "    if IncomeRange == \"$25,000-49,999\":\n",
    "        return (49999+25000)/2\n",
    "    elif IncomeRange == \"$75,000-99,999\":\n",
    "        return (99999+75000)/2\n",
    "    elif IncomeRange == \"$50,000-74,999\":\n",
    "        return (74999+50000)/2 \n",
    "    elif IncomeRange == \"$100,000+\":\n",
    "        return 100000  \n",
    "    elif IncomeRange == \"$1-24,999\":\n",
    "        return 25000/2\n",
    "    else:\n",
    "        return 0\n",
    "\n",
    "dataset.incomerange = dataset.incomerange.apply(incomerange)\n",
    "# 用均值填充缺失值\n",
    "dataset.incomerange.fillna(value=dataset.incomerange.mean(),inplace=True)\n",
    "# 是否有收入证明，对年收入的影响\n",
    "dataset.groupby('incomeverifiable').agg({'incomerange':['min','mean','max']}).reset_index()\n",
    "# 发现对比月收入，年收入会更可靠一些，后期将删除月收入保留年收入\n",
    "\n",
    "section= [0,12500,37499.5,62499.5,87499.5,100000.0]\n",
    "# # 1代表超低收入，2代表低收入，3代表中收入，4代表高收入，5代表超高收入\n",
    "labels = [1,2,3,4,5]\n",
    "dataset.incomerange = pd.cut(dataset.incomerange,section,labels=labels)\n",
    "\n",
    "# 查看月收入水平和年收入水平的分布情况\n",
    "plt.figure()\n",
    "ind = np.arange(len(dataset.incomerange.value_counts()))\n",
    "width = 0.35\n",
    "\n",
    "incomerange = plt.bar(ind,dataset.incomerange.value_counts(),width,color=\"k\",alpha=0.2,label=\"IncomeRange\")\n",
    "statedmonthlyincome = plt.bar(ind+width,dataset.statedmonthlyincome.value_counts(),width,color=\"b\",alpha=0.30,label=\"StatedMonthlyIncome\")\n",
    "plt.ylabel(\"population\")\n",
    "plt.xlabel(\"level\")\n",
    "plt.title(\"comparison\")\n",
    "locations= ind\n",
    "labels = ['1', '2', '3', '4', '5']\n",
    "plt.xticks(locations,labels)\n",
    "plt.xlim()\n",
    "plt.legend()\n",
    "# 由于切分的规则不同,月收入分布的更均匀一些\n",
    "# 年收入中处于超低收入区间的人数偏多,收入水平越高,人数越少,\n",
    "# 但是年收入的各个水平之间的差距更大,月收入因为极端值偏多,大部分人都处于4000-6000之间\n",
    "## 删除'StatedMonthlyIncome'月收入特征,是否有收入证明,职业,地址状态等\n",
    "dataset.drop(columns=['statedmonthlyincome','incomeverifiable','borrowerstate','prosperrating (alpha)'],axis=1,inplace=True)\n",
    "## 将分类变量BankcardUtilization，IncomeRange转化为数值变量\n",
    "dataset = pd.get_dummies(dataset,columns=['bankcardutilization','incomerange'],prefix=[\"bankcardutilization_level_\",\"incomerange_level_\"])\n",
    "dataset.shape\n",
    "# (84984, 72)"
   ]
  },
  {
   "cell_type": "code",
   "execution_count": 35,
   "metadata": {
    "scrolled": true
   },
   "outputs": [
    {
     "name": "stdout",
     "output_type": "stream",
     "text": [
      "Index(['未说明', '债务整合', '业务', '学生使用', '生育', '整容手术', '家用', '大采购', '医疗', '交通工具',\n",
      "       'RV', '税收', '假期', '结婚贷款'],\n",
      "      dtype='object')\n",
      "(84984, 85)\n"
     ]
    },
    {
     "data": {
      "image/png": "[encoded data removed]",
      "text/plain": [
       "<Figure size 432x288 with 1 Axes>"
      ]
     },
     "metadata": {},
     "output_type": "display_data"
    }
   ],
   "source": [
    "import matplotlib as mpl\n",
    "\n",
    "# TotalProsperLoans 借款人在创建此列表时对Prosper贷款的按时还款数量。\n",
    "# 如果借款人没有先前的贷款，这个值将为空。该列大部分都为空值，只有8684个人之前有过贷款\n",
    "dataset.totalprosperloans.fillna(value=0,inplace=True)\n",
    "# 可以再添加一个新特征loans_before，为之前是否有过贷款\n",
    "dataset['loans_before'] = dataset.totalprosperloans.apply(lambda x:1 if x >0 else 0)\n",
    "\n",
    "# 对分类变量EmploymentStatus进行整合，\n",
    "# 根据分类，可以将Full-time和Employed 归为同一类working，\n",
    "# Not employed和Retired归为同一类no_work\n",
    "# Part-time 和Other、Self-employed归为同一类free_work\n",
    "def employmentstatus(status):\n",
    "    if status==\"Employed\" or status==\"Full-time\":\n",
    "        return 'working'\n",
    "    elif status==\"Not employed\" or status==\"Retired\":\n",
    "        return 'no_work'\n",
    "    elif status==\"Other\":\n",
    "        return 'no_show_status'\n",
    "    else:\n",
    "        return 'free_work'\n",
    "dataset.employmentstatus = dataset.employmentstatus.apply(employmentstatus)\n",
    "# 分类变量虚拟化\n",
    "dataset = pd.get_dummies(dataset,columns=['employmentstatus'])\n",
    "# 对比ProsperRating (numeric)数字等级和ProsperRating (Alpha)字母等级 （在AA - HR之间创建上市时分配的繁荣评级。适用于2009年7月以后发放的贷款。）\n",
    "# 这两个特征，保留其中一个\n",
    "# 0 - N/A, 1 - HR, 2 - E, 3 - D, 4 - C, 5 - B, 6 - A, 7 - AA.  \n",
    "# 通过对比发现两个特征完全是对应匹配的，没有差异，只是表示形式不同\n",
    "# 考虑还有一个自评分这个数值型特征，初步保留ProsperRating (numeric)\n",
    "\n",
    "\n",
    "## 处理LoanOriginationDate借款日期，FirstRecordedCreditLine初次打开额度时间，信用档案被提取的日期DateCreditPulled\n",
    "# 借款日期和第一次打开额度的时间之差可以衍生新特征Recorded_history,表示该用户在最早获得贷款到本次贷款的间隔年数\n",
    "# 借款日期和信用档案被提取的日期一般之差几天，没有多大意义\n",
    "dataset['recorded_history'] = ((dataset.loanoriginationdate-dataset.firstrecordedcreditline)/365).apply(lambda d:int(str(d).split(\" \",1)[0]))\n",
    "\n",
    "# ClosedDate有较多的缺失值，怎么处理这个缺失值呢 ?\n",
    "# 因为没办法解决缺失值的问题，所以放弃了ClosedDate这个变量\n",
    "\n",
    "# 取平均信用分，根据CreditScoreRangeLower，CreditScoreRangeUpper新增特征creditscore\n",
    "dataset[\"creditscore\"] = (dataset[\"creditscorerangelower\"]+dataset[\"creditscorerangeupper\"])/2\n",
    "dataset.drop(columns=['creditscorerangelower','creditscorerangeupper']\n",
    "           ,inplace=True)\n",
    "\n",
    "# 删除时间变量\n",
    "dataset.drop(columns=['closeddate','loanoriginationdate','firstrecordedcreditline','datecreditpulled']\n",
    "           ,inplace=True)\n",
    "\n",
    "# print(dataset[['EstimatedEffectiveYield','EstimatedLoss','EstimatedReturn','ProsperRating (numeric)','ProsperScore']].apply(lambda d:d.mean()))\n",
    "# dataset[['EstimatedEffectiveYield','EstimatedLoss','EstimatedReturn','ProsperRating (numeric)','ProsperScore']].describe()\n",
    "# 以上变量有128个缺失值\n",
    "# 经过观察，除了评分之外选择均值填充，评分必须为整数所以根据均值取整数\n",
    "dataset['estimatedeffectiveyield'].fillna(value=0.177671,inplace=True)\n",
    "dataset['estimatedloss'].fillna(value=0.093504,inplace=True)\n",
    "dataset['estimatedreturn'].fillna(value=3.662694,inplace=True)\n",
    "dataset['prosperrating'].fillna(value=3.0,inplace=True)\n",
    "dataset['prosperscore'].fillna(value=6.0,inplace=True)\n",
    "\n",
    "# listingcategory 贷款用途，分类变量虚拟化\n",
    "# 整合同类型的用途\n",
    "dataset.listingcategory = dataset.listingcategory.apply(lambda l:5 if l==4 else(8 if l==7 else(15 if l==13 else(20 if l==11 else(12 if l==2 else(16 if l==6 or l==9 else l))))))\n",
    "    \n",
    "width=0.7\n",
    "d = dataset.groupby(\"listingcategory\")[\"loanstatus\"].mean()\n",
    "ind=np.arange(14)\n",
    "plt.bar(ind,d,width,color=\"b\",alpha=0.5)\n",
    "# 标题和标签\n",
    "plt.ylabel('overdue_ratio',size=13)\n",
    "plt.xlabel('listingcategory',size=13)\n",
    "locations = ind  # x 坐标刻度位置\n",
    "labels = ['未说明','债务整合','业务/个人贷款','学生使用','生育','整容手术','绿色贷款/家居/家用','大采购','医疗/牙科','摩托车/汽车/船','RV','税收','假期','结婚贷款']  # x 坐标刻度标签\n",
    "plt.xticks(locations, labels,rotation=90)\n",
    "mpl.rcParams['font.sans-serif'] = ['SimHei']\n",
    "# 添加网格\n",
    "plt.grid(linestyle=':', linewidth=1)\n",
    "# 根据图表显示差异化较大的是贷款用途为学生和债务组成、大采购、购买交通工具、生育等\n",
    "# print(d.describe())\n",
    "map_columns = {'listingcategory_0':'未说明', 'listingcategory_1':'债务整合', 'listingcategory_3':'业务',\n",
    "       'listingcategory_5':'学生使用', 'listingcategory_8':'生育', 'listingcategory_10':'整容手术',\n",
    "       'listingcategory_12':'家用', 'listingcategory_14':'大采购', 'listingcategory_15':'医疗',\n",
    "       'listingcategory_16':'交通工具', 'listingcategory_17':'RV', 'listingcategory_18':'税收',\n",
    "       'listingcategory_19':'假期', 'listingcategory_20':'结婚贷款'}\n",
    "dataset = pd.get_dummies(dataset,columns=['listingcategory'])\n",
    "dataset.rename(index=str,columns=map_columns,inplace=True)\n",
    "## 填充缺失值\n",
    "dataset.isnull().sum()[dataset.isnull().sum()>0]\n",
    "# debttoincomeratio在提取信用档案时借款人的债务收入比。如果债务收入比不可用，则此值为空。\n",
    "# 这个值的上限是10.01(任何债务与收入的比率超过1000%将作为1001%返回)。\n",
    "# 有7307个缺失值\n",
    "# 以0填充方法\n",
    "dataset.debttoincomeratio.fillna(value=0,inplace=True)\n",
    "# 转换数据类型\n",
    "df.isborrowerhomeowner = df.isborrowerhomeowner.astype(int)\n",
    "print(dataset.shape)\n",
    "# (84984, 85)\n"
   ]
  },
  {
   "cell_type": "code",
   "execution_count": 36,
   "metadata": {},
   "outputs": [],
   "source": [
    "data = dataset[dataset.loanstatus != 2]\n",
    "pre_set = dataset[dataset.loanstatus == 2]\n",
    "dataset.to_csv(r\"F:\\文档\\python\\load_data\\prosper_dataset_task1.csv\",index=False)\n",
    "data.to_csv(r\"F:\\文档\\python\\load_data\\prosper_data_task1.csv\",index=False)\n",
    "pre_set.to_csv(r\"F:\\文档\\python\\load_data\\prosper_pre_task1.csv\",index=False)"
   ]
  }
 ],
 "metadata": {
  "kernelspec": {
   "display_name": "Python 3",
   "language": "python",
   "name": "python3"
  },
  "language_info": {
   "codemirror_mode": {
    "name": "ipython",
    "version": 3
   },
   "file_extension": ".py",
   "mimetype": "text/x-python",
   "name": "python",
   "nbconvert_exporter": "python",
   "pygments_lexer": "ipython3",
   "version": "3.6.5"
  }
 },
 "nbformat": 4,
 "nbformat_minor": 2
}
